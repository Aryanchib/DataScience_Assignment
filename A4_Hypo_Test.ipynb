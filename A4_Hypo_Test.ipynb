{
  "nbformat": 4,
  "nbformat_minor": 0,
  "metadata": {
    "colab": {
      "provenance": [],
      "authorship_tag": "ABX9TyNbXAJ+qCk0kV2FZqIUaqmQ",
      "include_colab_link": true
    },
    "kernelspec": {
      "name": "python3",
      "display_name": "Python 3"
    },
    "language_info": {
      "name": "python"
    }
  },
  "cells": [
    {
      "cell_type": "markdown",
      "metadata": {
        "id": "view-in-github",
        "colab_type": "text"
      },
      "source": [
        "<a href=\"https://colab.research.google.com/github/Aryanchib/DataScience_Assignment/blob/main/A4_Hypo_Test.ipynb\" target=\"_parent\"><img src=\"https://colab.research.google.com/assets/colab-badge.svg\" alt=\"Open In Colab\"/></a>"
      ]
    },
    {
      "cell_type": "code",
      "execution_count": null,
      "metadata": {
        "id": "oQLRu6xBztVY"
      },
      "outputs": [],
      "source": [
        "import numpy as np\n",
        "from scipy.stats import t\n"
      ]
    },
    {
      "cell_type": "code",
      "source": [
        "#given data\n",
        "sample_mean=3050\n",
        "theoritical_mean=1000+5*600  # or popultion mean we can say\n",
        "standard_deviation=5*25\n",
        "sample_size=25\n",
        "alpha=0.05\n",
        "df = sample_size-1"
      ],
      "metadata": {
        "id": "0ZJZR8n703hf"
      },
      "execution_count": null,
      "outputs": []
    },
    {
      "cell_type": "markdown",
      "source": [
        "# TASK-1 State the Hypotheses statement:\n",
        "* Null Hypothesis (H₀): The weekly operating cost is consistent with the theoretical model (W = $1000+5*X )\n",
        "*  Alternative Hypothesis (H₁): The weekly operating cost is higher than the theoretical model."
      ],
      "metadata": {
        "id": "XPJRgQvX05mX"
      }
    },
    {
      "cell_type": "code",
      "source": [
        "std_error = standard_deviation/np.sqrt(sample_size)\n",
        "t_statistics = (sample_mean-theoritical_mean)/std_error\n",
        "print(std_error)\n",
        "print(t_statistics)"
      ],
      "metadata": {
        "colab": {
          "base_uri": "https://localhost:8080/"
        },
        "id": "11BjogjM1sQt",
        "outputId": "59093942-6b9d-402d-9c79-c4248a2c1d99"
      },
      "execution_count": null,
      "outputs": [
        {
          "output_type": "stream",
          "name": "stdout",
          "text": [
            "25.0\n",
            "-38.0\n"
          ]
        }
      ]
    },
    {
      "cell_type": "markdown",
      "source": [
        "# Finding the critical value using t distribution function\n",
        "We're importing the  t-distribution from the scipy.stats module. The t object provides several functions related to the t-distribution, which is commonly used in hypothesis testing and confidence interval estimation, especially when the sample size is small and the population standard deviation is unknown.\n",
        "* t.ppf is a function from the scipy.stats module that stands for \"percent point function\" (inverse of the cumulative distribution function, CDF) for the t-distribution.\n",
        "* It is used to find the critical value (or quantile) corresponding to a given probability.\n",
        "* alpha is the significance level (e.g., 0.05 for a 95% confidence level).\n",
        "1 - alpha represents the probability threshold. For a 95% confidence level, 1 - alpha would be 0.95.\n",
        "* This means we are looking for the critical value that leaves alpha (5%) in the tail of the distribution.\n",
        "* The t.ppf(1 - alpha, df) function returns the critical value for the t-distribution at the specified confidence level and degrees of freedom."
      ],
      "metadata": {
        "id": "EUtlYHL62qrE"
      }
    },
    {
      "cell_type": "code",
      "source": [
        "dof = sample_size-1\n",
        "critical_value = t.ppf(1-alpha,df)\n",
        "print(critical_value)"
      ],
      "metadata": {
        "colab": {
          "base_uri": "https://localhost:8080/"
        },
        "id": "v8Zz6XXe3JYH",
        "outputId": "7af8530f-f0f2-4dd9-b809-52f04a7c9f51"
      },
      "execution_count": null,
      "outputs": [
        {
          "output_type": "stream",
          "name": "stdout",
          "text": [
            "1.7108820799094275\n"
          ]
        }
      ]
    },
    {
      "cell_type": "markdown",
      "source": [
        "# TASK-4 Make a Decision:"
      ],
      "metadata": {
        "id": "KNvLxkwu3nIJ"
      }
    },
    {
      "cell_type": "code",
      "source": [
        "if t_statistics<critical_value:\n",
        "    print(\"Accept H0:The operating cost for a franchise in a week is not changed and remained same as $1000+$5X for X=600\")\n",
        "else:\n",
        "    print(\"Reject H0:The operating cost for a franchise in a week is changed as greater than $1000+$5X for X=600\")"
      ],
      "metadata": {
        "colab": {
          "base_uri": "https://localhost:8080/"
        },
        "id": "0m3aohxF3t17",
        "outputId": "0365718b-ee74-4c34-fc75-46fb0d9c77de"
      },
      "execution_count": null,
      "outputs": [
        {
          "output_type": "stream",
          "name": "stdout",
          "text": [
            "Accept H0:The operating cost for a franchise in a week is not changed and remained same as $1000+$5X for X=600\n"
          ]
        }
      ]
    },
    {
      "cell_type": "markdown",
      "source": [
        "#TASK-5 CONCLUSION\n",
        "Based on the decision in step 4,\n",
        "There is no strong evidence to support the restaurant owner.\n",
        "We accept Null Hypothesis"
      ],
      "metadata": {
        "id": "E41f4euE35uh"
      }
    },
    {
      "cell_type": "markdown",
      "source": [
        "* If we want another verification we can do that with p_value, since we wanted the probability of right side because we want to check whether the operation cost has increased or not we by default cdf funtion returns left side prb. so we need to subtract this with 1. So here we can see we got prob as 1 which is not satisfing the condition for alternate hypo i.e. p_value<0.05 ---> accept alternate hypo.\n",
        "* So we will accept Null hypothesis"
      ],
      "metadata": {
        "id": "S_Utvvwf5MM3"
      }
    },
    {
      "cell_type": "code",
      "source": [
        "p_value = 1-t.cdf(t_statistics,df=24)\n",
        "print(p_value)"
      ],
      "metadata": {
        "colab": {
          "base_uri": "https://localhost:8080/"
        },
        "id": "dIx6r2wk4pjk",
        "outputId": "fa2c8808-90ab-4ca7-cb36-ad961bda48d6"
      },
      "execution_count": null,
      "outputs": [
        {
          "output_type": "stream",
          "name": "stdout",
          "text": [
            "1.0\n"
          ]
        }
      ]
    },
    {
      "cell_type": "code",
      "source": [
        "1)In Python, the p-value is used in statistical hypothesis testing to determine the significance of your results.\n",
        "It helps you understand whether the observed data deviates significantly from the null hypothesis,\n",
        " which typically states that there is no effect or no difference.\n",
        "2)A low p-value (typically ≤ 0.05) indicates strong evidence against the null hypothesis, so you reject the null hypothesis.\n",
        "A high p-value (> 0.05) indicates weak evidence against the null hypothesis, so you fail to reject the null hypothesis.\n"
      ],
      "metadata": {
        "id": "GNDxZg83W3mg"
      },
      "execution_count": null,
      "outputs": []
    }
  ]
}