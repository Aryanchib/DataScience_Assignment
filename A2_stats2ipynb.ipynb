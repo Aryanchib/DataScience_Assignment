{
  "nbformat": 4,
  "nbformat_minor": 0,
  "metadata": {
    "colab": {
      "provenance": [],
      "include_colab_link": true
    },
    "kernelspec": {
      "name": "python3",
      "display_name": "Python 3"
    },
    "language_info": {
      "name": "python"
    }
  },
  "cells": [
    {
      "cell_type": "markdown",
      "metadata": {
        "id": "view-in-github",
        "colab_type": "text"
      },
      "source": [
        "<a href=\"https://colab.research.google.com/github/Aryanchib/DataScience_Assignment/blob/main/A2_stats2ipynb.ipynb\" target=\"_parent\"><img src=\"https://colab.research.google.com/assets/colab-badge.svg\" alt=\"Open In Colab\"/></a>"
      ]
    },
    {
      "cell_type": "markdown",
      "source": [
        "* We'll import numpy, and from scipy import stats (from where we will use t- distributon ) and store the sample first in an array."
      ],
      "metadata": {
        "id": "zJRNi2-fsHE0"
      }
    },
    {
      "cell_type": "code",
      "execution_count": null,
      "metadata": {
        "id": "D7nSx52FyaJJ"
      },
      "outputs": [],
      "source": [
        "import numpy as np\n",
        "from scipy import stats\n",
        "data=np.array([1.13, 1.55, 1.43, 0.92, 1.25, 1.36, 1.32, 0.85, 1.07, 1.48, 1.20, 1.33, 1.18, 1.22, 1.29]) #given data\n"
      ]
    },
    {
      "cell_type": "code",
      "source": [
        "sample_mean=np.mean(data)\n",
        "sample_std=np.std(data)\n",
        "sample_size=len(data)\n",
        "print(sample_mean)\n",
        "print(sample_std)\n",
        "print(sample_size)"
      ],
      "metadata": {
        "colab": {
          "base_uri": "https://localhost:8080/"
        },
        "id": "vfxfMfHaMrg2",
        "outputId": "1138a8a8-30ee-4bd1-da6b-83863505ab9f"
      },
      "execution_count": null,
      "outputs": [
        {
          "output_type": "stream",
          "name": "stdout",
          "text": [
            "1.2386666666666666\n",
            "0.18661427836285438\n",
            "15\n"
          ]
        }
      ]
    },
    {
      "cell_type": "markdown",
      "source": [
        "# **A. Confidence interval using sample standard deviation.**\n",
        "METHOD1: Using direct syntax for knowing the confidence intervals.\n",
        "syntax: stats.t.interval( confidence_level , Degree of freedom , sample_mean , Standard error of sample mean using sample standard deviation)"
      ],
      "metadata": {
        "id": "Ye-h0Ue8NHQh"
      }
    },
    {
      "cell_type": "markdown",
      "source": [
        "* Yes, changing the order of the parameters in the stats.t.interval function will affect the result. Each parameter has a specific role:\n",
        "\n",
        "* confidence_level: The confidence level for the interval (e.g., 0.95 for a 95% confidence interval).\n",
        "dof: Degrees of freedom, typically the sample size minus one.\n",
        "sample_mean: The mean of your sample data.\n",
        "sE: The standard error of the mean.\n",
        "* If you change the order, the function won't interpret the parameters correctly, leading to incorrect results or errors. For example, if you swap confidence_level and dof, the function might try to use the degrees of freedom as the confidence level, which doesn't make sense."
      ],
      "metadata": {
        "id": "hFr1WOfHuMUI"
      }
    },
    {
      "cell_type": "code",
      "source": [
        "#using t-distribution\n",
        "confidence_level=0.99 #given confidence level is 99%\n",
        "dof=sample_size-1 #degrees of freedom\n",
        "sE=sample_std/np.sqrt(sample_size)\n",
        "stats.t.interval(confidence_level,dof,sample_mean,sE)\n"
      ],
      "metadata": {
        "colab": {
          "base_uri": "https://localhost:8080/"
        },
        "id": "OJw0aFbUNgpt",
        "outputId": "adc3e8e2-85fa-4f4f-9c89-123b28a5662a"
      },
      "execution_count": null,
      "outputs": [
        {
          "output_type": "execute_result",
          "data": {
            "text/plain": [
              "(1.095231668626123, 1.3821016647072102)"
            ]
          },
          "metadata": {},
          "execution_count": 5
        }
      ]
    },
    {
      "cell_type": "markdown",
      "source": [
        "# **Rationale for Using the t-Distribution:**\n",
        "* The sample size is small (n = 15), and the population standard deviation is unknown. When the sample size is small and the population standard deviation is unknown, the t-distribution is used instead of the normal distribution to account for the increased uncertainty. The t-distribution is wider (more conservative) than the normal distribution, making it more appropriate in these situations.\n",
        "\n",
        "* The t-distribution is a statistical tool used to understand data, especially when dealing with small sample sizes. Here's a simple explanation:\n",
        "\n",
        "* 1) Shape: It looks like a bell curve, similar to the normal distribution, but with fatter tails. This means it accounts for more extreme values.\n",
        "* 2) Flexibility: It's useful when you don't know the population standard deviation and have to estimate it from your sample.\n",
        "* 3) Degrees of Freedom: The shape of the t-distribution changes based on the sample size (degrees of freedom). With larger samples, it starts to look more like the normal distribution.( ***do google graph of t-distribution and Z-distribution graph to get a proper insights of the data***)\n",
        "* In essence, the t-distribution helps you make more accurate predictions and decisions when you have limited data.\n",
        "\n"
      ],
      "metadata": {
        "id": "bgKZszORtAaS"
      }
    },
    {
      "cell_type": "markdown",
      "source": [
        "# **B. Confidence interval using known population standard deviation**"
      ],
      "metadata": {
        "id": "GolOyIx2q8Ju"
      }
    },
    {
      "cell_type": "code",
      "source": [
        "#here we know already know our population standard deviation i.e. 0.2 so our standard error will be different this time\n",
        "pop_std = 0.2\n",
        "newSE = pop_std/np.sqrt(sample_size)\n",
        "stats.t.interval(confidence_level,dof,sample_mean,newSE)\n"
      ],
      "metadata": {
        "colab": {
          "base_uri": "https://localhost:8080/"
        },
        "id": "xzELVrilrC9G",
        "outputId": "1a5cc848-6b93-4c3b-d264-a8f2917dea92"
      },
      "execution_count": null,
      "outputs": [
        {
          "output_type": "execute_result",
          "data": {
            "text/plain": [
              "(1.0849431688733762, 1.392390164459957)"
            ]
          },
          "metadata": {},
          "execution_count": 6
        }
      ]
    },
    {
      "cell_type": "markdown",
      "source": [
        "# **Case 1: Sample Standard Deviation is Used (First Case)**\n",
        "* You don’t know the population’s standard deviation.\n",
        "* Your sample size is small (only 15 print-heads).\n",
        "* Since the sample size is small and you don’t know the population’s standard deviation, we use the t-distribution.  The t-distribution helps us handle the extra uncertainty from these two things.\n",
        "\n",
        "* Why the t-distribution in the first case?\n",
        "Small sample size: When you have a small sample, the t-distribution is better at giving more \"cautious\" or \"wider\" results.\n",
        "* We don’t know the population standard deviation: So we estimate it from the sample, which adds some uncertainty. The t-distribution is designed to handle this uncertainty.\n",
        "# Case 2: Known Population Standard Deviation (Second Case)\n",
        "* You do know the population’s standard deviation.\n",
        "* The sample size can still be small (15), but we already know the population’s standard deviation, so we use the z-distribution instead.\n",
        "* But if we used the t-distribution here, it’s still okay — it just gives a slightly more \"cautious\" estimate, which isn’t wrong, just more conservative.\n",
        "\n",
        "# **In short:**\n",
        "* First case (unknown standard deviation, small sample size): Use the t-distribution to handle the uncertainty.\n",
        "* Second case (known standard deviation): Use the z-distribution, but using the t-distribution still works fine."
      ],
      "metadata": {
        "id": "EjDeuUEhu5rm"
      }
    }
  ]
}