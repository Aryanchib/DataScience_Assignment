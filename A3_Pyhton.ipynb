{
  "nbformat": 4,
  "nbformat_minor": 0,
  "metadata": {
    "colab": {
      "provenance": [],
      "authorship_tag": "ABX9TyM4rDRH2/8GeH+sunXvyGvd",
      "include_colab_link": true
    },
    "kernelspec": {
      "name": "python3",
      "display_name": "Python 3"
    },
    "language_info": {
      "name": "python"
    }
  },
  "cells": [
    {
      "cell_type": "markdown",
      "metadata": {
        "id": "view-in-github",
        "colab_type": "text"
      },
      "source": [
        "<a href=\"https://colab.research.google.com/github/Aryanchib/DataScience_Assignment/blob/main/A3_Pyhton.ipynb\" target=\"_parent\"><img src=\"https://colab.research.google.com/assets/colab-badge.svg\" alt=\"Open In Colab\"/></a>"
      ]
    },
    {
      "cell_type": "markdown",
      "source": [
        "**1. Write a Python program that checks whether a given number is prime or not. A prime number is a natural number greater than 1 that has no positive divisors other than 1 and itself.**"
      ],
      "metadata": {
        "id": "Vd-jlZrW0hGG"
      }
    },
    {
      "cell_type": "markdown",
      "source": [
        "* Inside the loop, it checks if num is divisible by i.\n",
        "* If num is divisible by any i, it prints \"not a prime no\" and breaks out of the loop, indicating that num is not a prime number.\n",
        "* The else clause associated with the for loop executes if the loop completes without encountering a break statement.\n",
        "* If no divisors are found (i.e., num is not divisible by any number from 2 to num - 1), it prints \"its a prime no\", indicating that num is a prime number."
      ],
      "metadata": {
        "id": "h3fHfy8gZ2i3"
      }
    },
    {
      "cell_type": "code",
      "execution_count": null,
      "metadata": {
        "colab": {
          "base_uri": "https://localhost:8080/"
        },
        "id": "qDF8v90_xLUg",
        "outputId": "fad96c81-d50d-42ca-acf5-b39328e76808"
      },
      "outputs": [
        {
          "output_type": "stream",
          "name": "stdout",
          "text": [
            "enter the number:2\n",
            "prime number\n"
          ]
        }
      ],
      "source": [
        "num = int(input(\"enter the number:\" ))\n",
        "if num < 2:\n",
        "  print(\"not a prime number\")\n",
        "\n",
        "else :                        # if num is 2 then,\n",
        "    for i in range(2,num):    # The range(2, num) generates an empty sequence because num-1 is 1, and the loop does not execute any iterations.\n",
        "      if num % i == 0:        # Since the loop does not execute, the code directly goes to the else block after the loop\n",
        "        print(\"not a prime number\")\n",
        "        break\n",
        "                              # checking for the divisors starting from 2 i.e. if it is evenly divisble by num btw 2 to num-1(num is exclusive)\n",
        "    else:\n",
        "      print(\"prime number\")\n",
        "\n"
      ]
    },
    {
      "cell_type": "markdown",
      "source": [
        "**2. Develop a Python program that generates two random numbers and asks the user to enter the product of these numbers. The program should then check if the user's answer is correct and display an appropriate message.**"
      ],
      "metadata": {
        "id": "-srzOWCw2gaj"
      }
    },
    {
      "cell_type": "code",
      "source": [
        "import numpy as np\n",
        "\n",
        "# Generate two random numbers between 1 and 10\n",
        "num1 = np.random.randint(1, 11)\n",
        "num2 = np.random.randint(1, 11)\n",
        "\n",
        "# Ask the user for the product\n",
        "user_answer = int(input(f\"What is the product of {num1} and {num2}? \"))\n",
        "\n",
        "# Check if the user's answer is correct\n",
        "correct_answer = num1 * num2\n",
        "if user_answer == correct_answer:\n",
        "    print(\"Correct! Well done.\")\n",
        "else:\n",
        "    print(f\"Oops! The correct answer is {correct_answer}.\")"
      ],
      "metadata": {
        "colab": {
          "base_uri": "https://localhost:8080/"
        },
        "id": "Xvfe9aUR2MT_",
        "outputId": "dadaa0e8-651a-4f67-d486-af78dd458437"
      },
      "execution_count": null,
      "outputs": [
        {
          "output_type": "stream",
          "name": "stdout",
          "text": [
            "What is the product of 3 and 10? 43\n",
            "Oops! The correct answer is 30.\n"
          ]
        }
      ]
    },
    {
      "cell_type": "markdown",
      "source": [
        "* f\"...\" tells Python that the string inside will contain placeholders for variables or expressions.\n",
        "* {num1} and {num2} inside the curly braces are replaced by the actual values of num1 and num2.\n",
        "* So, if num1 = 3 and num2 = 5, the output string would be:\n",
        "----\"What is the product of 3 and 5?\"\n",
        "----\"instead of what is the product of {num1} and {num2}?\"\n"
      ],
      "metadata": {
        "id": "lIKHTTl93cc6"
      }
    },
    {
      "cell_type": "markdown",
      "source": [
        "**3. Create a Python script that prints the squares of all even or odd numbers within the range of 100 to 200. Choose either even or odd numbers and document your choice in the code.**"
      ],
      "metadata": {
        "id": "QZ950KXz4EjW"
      }
    },
    {
      "cell_type": "code",
      "source": [
        "#Squares of Even or Odd numbers of the given range (100 t0 200)\n",
        "for num in range(100,201):\n",
        "    if num%2!=0:                            #   if num%2==0:   ..... for even it is\n",
        "        print(f\"{num}^2 = {num**2}\")        #    or print(i,\"**2\",\" = \", i**2)\n"
      ],
      "metadata": {
        "colab": {
          "base_uri": "https://localhost:8080/"
        },
        "id": "SPNaAKh04ml2",
        "outputId": "10b51100-4f5f-4860-976f-267b726acdb3"
      },
      "execution_count": null,
      "outputs": [
        {
          "output_type": "stream",
          "name": "stdout",
          "text": [
            "101^2 = 10201\n",
            "103^2 = 10609\n",
            "105^2 = 11025\n",
            "107^2 = 11449\n",
            "109^2 = 11881\n",
            "111^2 = 12321\n",
            "113^2 = 12769\n",
            "115^2 = 13225\n",
            "117^2 = 13689\n",
            "119^2 = 14161\n",
            "121^2 = 14641\n",
            "123^2 = 15129\n",
            "125^2 = 15625\n",
            "127^2 = 16129\n",
            "129^2 = 16641\n",
            "131^2 = 17161\n",
            "133^2 = 17689\n",
            "135^2 = 18225\n",
            "137^2 = 18769\n",
            "139^2 = 19321\n",
            "141^2 = 19881\n",
            "143^2 = 20449\n",
            "145^2 = 21025\n",
            "147^2 = 21609\n",
            "149^2 = 22201\n",
            "151^2 = 22801\n",
            "153^2 = 23409\n",
            "155^2 = 24025\n",
            "157^2 = 24649\n",
            "159^2 = 25281\n",
            "161^2 = 25921\n",
            "163^2 = 26569\n",
            "165^2 = 27225\n",
            "167^2 = 27889\n",
            "169^2 = 28561\n",
            "171^2 = 29241\n",
            "173^2 = 29929\n",
            "175^2 = 30625\n",
            "177^2 = 31329\n",
            "179^2 = 32041\n",
            "181^2 = 32761\n",
            "183^2 = 33489\n",
            "185^2 = 34225\n",
            "187^2 = 34969\n",
            "189^2 = 35721\n",
            "191^2 = 36481\n",
            "193^2 = 37249\n",
            "195^2 = 38025\n",
            "197^2 = 38809\n",
            "199^2 = 39601\n"
          ]
        }
      ]
    },
    {
      "cell_type": "markdown",
      "source": [
        "4.write a program to count the number of words in a given text.\n",
        "example:\n",
        "* input_text = \"This is a sample text. This text will be used to demonstrate the word counter.\"\n",
        "* Expected output:\n",
        "---'This': 2 times\n",
        "---'is': 1  time\n",
        "---'a': 1 time\n",
        "---'sample': 1 time\n",
        "---'text.': 1 time\n",
        "* see in NB about dictionaries to get more insights\n"
      ],
      "metadata": {
        "id": "d5gVaK-R8LMD"
      }
    },
    {
      "cell_type": "code",
      "source": [
        "input_text = \"This is a sample text. This text will be used to demonstrate the word counter.\"\n",
        "\n",
        "# Split the input text into a list of words\n",
        "words = input_text.split()\n",
        "\n",
        "# Create an empty dictionary to store word & counts\n",
        "dic = {}\n",
        "\n",
        "# Loop through each word in the list\n",
        "for word in words:\n",
        "    # If the word is already in the dictionary, increment its count\n",
        "    if word in dic:\n",
        "        dic[word] += 1\n",
        "    # Otherwise, add the word to the dictionary with a count of 1\n",
        "    else:\n",
        "        dic[word] = 1\n",
        "\n",
        "# [Print the word & counts]\n",
        "# word_count = {'apple': 3, 'banana': 2, 'cherry': 5}\n",
        "#dic.items() returns a collection of all key-value pairs in the dictionary.\n",
        "#Each item is a tuple in the format (key, value). like this\n",
        "#[('apple', 3), ('banana', 2), ('cherry', 5)]. so we get a list of tuples by this .items function\n",
        "#You can iterate through these items to access both the keys and values in the dictionary.\n",
        "for word, count in dic.items():\n",
        "    print(f\"'{word}': {count}\")\n"
      ],
      "metadata": {
        "colab": {
          "base_uri": "https://localhost:8080/"
        },
        "id": "z-bmozYA8efS",
        "outputId": "cac9f6f6-417d-4f25-c332-b895aeeb833d"
      },
      "execution_count": null,
      "outputs": [
        {
          "output_type": "stream",
          "name": "stdout",
          "text": [
            "{'This': 2, 'is': 1, 'a': 1, 'sample': 1, 'text.': 1, 'text': 1, 'will': 1, 'be': 1, 'used': 1, 'to': 1, 'demonstrate': 1, 'the': 1, 'word': 1, 'counter.': 1}\n",
            "'This': 2\n",
            "'is': 1\n",
            "'a': 1\n",
            "'sample': 1\n",
            "'text.': 1\n",
            "'text': 1\n",
            "'will': 1\n",
            "'be': 1\n",
            "'used': 1\n",
            "'to': 1\n",
            "'demonstrate': 1\n",
            "'the': 1\n",
            "'word': 1\n",
            "'counter.': 1\n"
          ]
        }
      ]
    },
    {
      "cell_type": "code",
      "source": [
        "input_text= 'my name is am name the don aryan me is am'\n",
        "words = input_text.split()\n",
        "dic = {}\n",
        "for word in words:\n",
        "    if word in dic:\n",
        "        dic[word] +=1\n",
        "    else:\n",
        "        dic[word]=1\n",
        "\n",
        "print(dic) # here is our dictionary\n",
        "for word,count in dic.items():\n",
        "    print(f\"{word}:{count}\")"
      ],
      "metadata": {
        "id": "R3UED8qDmNQ2"
      },
      "execution_count": null,
      "outputs": []
    },
    {
      "cell_type": "markdown",
      "source": [
        "* The split() method is used here. It splits the string input_text into a list of words, using spaces as the delimiter (by default).\n",
        "\n",
        "* This converts the text into a list where each word is an individual element.\n",
        "\n",
        "* Example: For the input \"This is a sample text. This text will be used to demonstrate the word counter.\", the result of input_text.split() will be:\n",
        "* ['This', 'is', 'a', 'sample', 'text.', 'This', 'text', 'will', 'be', 'used', 'to', 'demonstrate', 'the', 'word', 'counter.']\n",
        "\n",
        "\n",
        "* word_count.items() returns a list of key-value pairs (tuples) from the dictionary.\n",
        "* We loop through these key-value pairs:\n",
        "* word is the key (the word itself).\n",
        "* count is the value (how many times that word appeared).\n",
        "* For each pair, we print the word and its count in the format '{word}': {count}."
      ],
      "metadata": {
        "id": "3L51mZGoHmF6"
      }
    },
    {
      "cell_type": "markdown",
      "source": [
        "5.Write a Python function called is_palindrome that takes a string as input and returns True if the string is a palindrome, and False otherwise. A palindrome is a word, phrase, number, or other sequence of characters that reads the same forward and backward, ignoring spaces, punctuation, and capitalization.\n",
        "* Example:\n",
        "Input: \"racecar\"\n",
        "Expected Output: True\n"
      ],
      "metadata": {
        "id": "MQONkkmDKfPf"
      }
    },
    {
      "cell_type": "code",
      "source": [
        "# Input string\n",
        "input_text = \"raccar\"\n",
        "\n",
        "# Remove spaces, convert to lowercase, and keep only alphanumeric characters\n",
        "cleaned_text = ''.join(char.lower() for char in input_text if char.isalnum())\n",
        "\n",
        "# Check if the cleaned text is equal to its reverse\n",
        "if cleaned_text == cleaned_text[::-1]:\n",
        "    print(True)\n",
        "else:\n",
        "    print(False)"
      ],
      "metadata": {
        "colab": {
          "base_uri": "https://localhost:8080/"
        },
        "id": "2JHUG2iZK1vO",
        "outputId": "63ede403-fc94-4fe7-990d-d0cf5618b3e7"
      },
      "execution_count": null,
      "outputs": [
        {
          "output_type": "stream",
          "name": "stdout",
          "text": [
            "True\n"
          ]
        }
      ]
    },
    {
      "cell_type": "markdown",
      "source": [
        "* Here, we're using a list comprehension to process each character e in input_text.\n",
        "* e.lower() converts each character to lowercase (ignoring case).\n",
        "* e.isalnum() checks if the character is alphanumeric (ignores spaces, punctuation, etc.).\n",
        "* ''.join(...) combines the resulting characters into a cleaned string, which contains only lowercase letters and numbers.\n",
        "* For example, if the input was \"A man, a plan, a canal, Panama\", the cleaned text would become \"amanaplanacanalpanama\"\n",
        "\n",
        "* cleaned_text[ : : -1] gives us the reverse of the cleaned_text.\n",
        "We check if the cleaned text is equal to its reverse. If it is, the string is a palindrome\n",
        "\n"
      ],
      "metadata": {
        "id": "vle0FDg3Mb7l"
      }
    },
    {
      "cell_type": "code",
      "source": [
        "* Comprehensions in Python are a way to create lists, dictionaries, sets, or generators in a single line of code.\n",
        "They make your code shorter and easier to read.\n",
        "\n",
        "Example of List Comprehension:\n",
        "Instead of writing a loop to create a list, you can do it in one line:\n",
        "\n",
        "# Traditional way\n",
        "squares = []\n",
        "for x in range(10):\n",
        "    squares.append(x**2)\n",
        "\n",
        "# List comprehension\n",
        "squares = [x**2 for x in range(10)]\n",
        "Both methods create a list of squares from 0 to 9, but the list comprehension is more concise."
      ],
      "metadata": {
        "id": "-VZayyCaSJGj"
      },
      "execution_count": null,
      "outputs": []
    }
  ]
}